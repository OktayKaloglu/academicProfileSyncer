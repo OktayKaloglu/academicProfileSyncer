{
 "cells": [
  {
   "cell_type": "code",
   "execution_count": 1,
   "metadata": {},
   "outputs": [],
   "source": [
    "from scholarly import ProxyGenerator,scholarly\n",
    "from jsonWrite import writeJson\n",
    "from concurrent.futures import ThreadPoolExecutor,wait\n",
    "# Set up a ProxyGenerator object to use free proxies\n",
    "# This needs to be done only once per session\n",
    "pg = ProxyGenerator()\n",
    "pg.FreeProxies()\n",
    "scholarly.use_proxy(pg)\n",
    "\n",
    "\n",
    "# Retrieve the author's data, fill-in, and print\n",
    "search_query = scholarly.search_author('Murat Osman ÜNALIR')"
   ]
  },
  {
   "cell_type": "code",
   "execution_count": 2,
   "metadata": {},
   "outputs": [],
   "source": [
    "author = scholarly.fill(next(search_query))"
   ]
  },
  {
   "cell_type": "code",
   "execution_count": 18,
   "metadata": {},
   "outputs": [],
   "source": [
    "def getPaper(pub):\n",
    "    pg.FreeProxies()\n",
    "    scholarly.use_proxy(pg)\n",
    "\n",
    "    #pubs.append(scholarly.fill(pub))\n",
    "    print(pub[\"bib\"][\"title\"])\n",
    "    \n",
    "    return scholarly.fill(pub)"
   ]
  },
  {
   "cell_type": "code",
   "execution_count": 24,
   "metadata": {},
   "outputs": [],
   "source": [
    "pubs=[]\n",
    "results=[]\n",
    "with ThreadPoolExecutor(max_workers=100) as pool:\n",
    "    for pub in author['publications']:\n",
    "\n",
    "        result=pool.submit(getPaper,pub)\n",
    "        results.append(result)\n",
    "    wait(results)"
   ]
  },
  {
   "cell_type": "code",
   "execution_count": 28,
   "metadata": {},
   "outputs": [
    {
     "ename": "FreeProxyException",
     "evalue": "Request to https://www.sslproxies.org failed",
     "output_type": "error",
     "traceback": [
      "\u001b[0;31m---------------------------------------------------------------------------\u001b[0m",
      "\u001b[0;31mSSLZeroReturnError\u001b[0m                        Traceback (most recent call last)",
      "File \u001b[0;32m~/academicProfileSyncer/instructorParser/venv/lib/python3.10/site-packages/urllib3/connectionpool.py:703\u001b[0m, in \u001b[0;36mHTTPConnectionPool.urlopen\u001b[0;34m(self, method, url, body, headers, retries, redirect, assert_same_host, timeout, pool_timeout, release_conn, chunked, body_pos, **response_kw)\u001b[0m\n\u001b[1;32m    702\u001b[0m \u001b[39m# Make the request on the httplib connection object.\u001b[39;00m\n\u001b[0;32m--> 703\u001b[0m httplib_response \u001b[39m=\u001b[39m \u001b[39mself\u001b[39;49m\u001b[39m.\u001b[39;49m_make_request(\n\u001b[1;32m    704\u001b[0m     conn,\n\u001b[1;32m    705\u001b[0m     method,\n\u001b[1;32m    706\u001b[0m     url,\n\u001b[1;32m    707\u001b[0m     timeout\u001b[39m=\u001b[39;49mtimeout_obj,\n\u001b[1;32m    708\u001b[0m     body\u001b[39m=\u001b[39;49mbody,\n\u001b[1;32m    709\u001b[0m     headers\u001b[39m=\u001b[39;49mheaders,\n\u001b[1;32m    710\u001b[0m     chunked\u001b[39m=\u001b[39;49mchunked,\n\u001b[1;32m    711\u001b[0m )\n\u001b[1;32m    713\u001b[0m \u001b[39m# If we're going to release the connection in ``finally:``, then\u001b[39;00m\n\u001b[1;32m    714\u001b[0m \u001b[39m# the response doesn't need to know about the connection. Otherwise\u001b[39;00m\n\u001b[1;32m    715\u001b[0m \u001b[39m# it will also try to release it and we'll have a double-release\u001b[39;00m\n\u001b[1;32m    716\u001b[0m \u001b[39m# mess.\u001b[39;00m\n",
      "File \u001b[0;32m~/academicProfileSyncer/instructorParser/venv/lib/python3.10/site-packages/urllib3/connectionpool.py:386\u001b[0m, in \u001b[0;36mHTTPConnectionPool._make_request\u001b[0;34m(self, conn, method, url, timeout, chunked, **httplib_request_kw)\u001b[0m\n\u001b[1;32m    385\u001b[0m \u001b[39mtry\u001b[39;00m:\n\u001b[0;32m--> 386\u001b[0m     \u001b[39mself\u001b[39;49m\u001b[39m.\u001b[39;49m_validate_conn(conn)\n\u001b[1;32m    387\u001b[0m \u001b[39mexcept\u001b[39;00m (SocketTimeout, BaseSSLError) \u001b[39mas\u001b[39;00m e:\n\u001b[1;32m    388\u001b[0m     \u001b[39m# Py2 raises this as a BaseSSLError, Py3 raises it as socket timeout.\u001b[39;00m\n",
      "File \u001b[0;32m~/academicProfileSyncer/instructorParser/venv/lib/python3.10/site-packages/urllib3/connectionpool.py:1042\u001b[0m, in \u001b[0;36mHTTPSConnectionPool._validate_conn\u001b[0;34m(self, conn)\u001b[0m\n\u001b[1;32m   1041\u001b[0m \u001b[39mif\u001b[39;00m \u001b[39mnot\u001b[39;00m \u001b[39mgetattr\u001b[39m(conn, \u001b[39m\"\u001b[39m\u001b[39msock\u001b[39m\u001b[39m\"\u001b[39m, \u001b[39mNone\u001b[39;00m):  \u001b[39m# AppEngine might not have  `.sock`\u001b[39;00m\n\u001b[0;32m-> 1042\u001b[0m     conn\u001b[39m.\u001b[39;49mconnect()\n\u001b[1;32m   1044\u001b[0m \u001b[39mif\u001b[39;00m \u001b[39mnot\u001b[39;00m conn\u001b[39m.\u001b[39mis_verified:\n",
      "File \u001b[0;32m~/academicProfileSyncer/instructorParser/venv/lib/python3.10/site-packages/urllib3/connection.py:414\u001b[0m, in \u001b[0;36mHTTPSConnection.connect\u001b[0;34m(self)\u001b[0m\n\u001b[1;32m    412\u001b[0m     context\u001b[39m.\u001b[39mload_default_certs()\n\u001b[0;32m--> 414\u001b[0m \u001b[39mself\u001b[39m\u001b[39m.\u001b[39msock \u001b[39m=\u001b[39m ssl_wrap_socket(\n\u001b[1;32m    415\u001b[0m     sock\u001b[39m=\u001b[39;49mconn,\n\u001b[1;32m    416\u001b[0m     keyfile\u001b[39m=\u001b[39;49m\u001b[39mself\u001b[39;49m\u001b[39m.\u001b[39;49mkey_file,\n\u001b[1;32m    417\u001b[0m     certfile\u001b[39m=\u001b[39;49m\u001b[39mself\u001b[39;49m\u001b[39m.\u001b[39;49mcert_file,\n\u001b[1;32m    418\u001b[0m     key_password\u001b[39m=\u001b[39;49m\u001b[39mself\u001b[39;49m\u001b[39m.\u001b[39;49mkey_password,\n\u001b[1;32m    419\u001b[0m     ca_certs\u001b[39m=\u001b[39;49m\u001b[39mself\u001b[39;49m\u001b[39m.\u001b[39;49mca_certs,\n\u001b[1;32m    420\u001b[0m     ca_cert_dir\u001b[39m=\u001b[39;49m\u001b[39mself\u001b[39;49m\u001b[39m.\u001b[39;49mca_cert_dir,\n\u001b[1;32m    421\u001b[0m     ca_cert_data\u001b[39m=\u001b[39;49m\u001b[39mself\u001b[39;49m\u001b[39m.\u001b[39;49mca_cert_data,\n\u001b[1;32m    422\u001b[0m     server_hostname\u001b[39m=\u001b[39;49mserver_hostname,\n\u001b[1;32m    423\u001b[0m     ssl_context\u001b[39m=\u001b[39;49mcontext,\n\u001b[1;32m    424\u001b[0m     tls_in_tls\u001b[39m=\u001b[39;49mtls_in_tls,\n\u001b[1;32m    425\u001b[0m )\n\u001b[1;32m    427\u001b[0m \u001b[39m# If we're using all defaults and the connection\u001b[39;00m\n\u001b[1;32m    428\u001b[0m \u001b[39m# is TLSv1 or TLSv1.1 we throw a DeprecationWarning\u001b[39;00m\n\u001b[1;32m    429\u001b[0m \u001b[39m# for the host.\u001b[39;00m\n",
      "File \u001b[0;32m~/academicProfileSyncer/instructorParser/venv/lib/python3.10/site-packages/urllib3/util/ssl_.py:449\u001b[0m, in \u001b[0;36mssl_wrap_socket\u001b[0;34m(sock, keyfile, certfile, cert_reqs, ca_certs, server_hostname, ssl_version, ciphers, ssl_context, ca_cert_dir, key_password, ca_cert_data, tls_in_tls)\u001b[0m\n\u001b[1;32m    448\u001b[0m \u001b[39mif\u001b[39;00m send_sni:\n\u001b[0;32m--> 449\u001b[0m     ssl_sock \u001b[39m=\u001b[39m _ssl_wrap_socket_impl(\n\u001b[1;32m    450\u001b[0m         sock, context, tls_in_tls, server_hostname\u001b[39m=\u001b[39;49mserver_hostname\n\u001b[1;32m    451\u001b[0m     )\n\u001b[1;32m    452\u001b[0m \u001b[39melse\u001b[39;00m:\n",
      "File \u001b[0;32m~/academicProfileSyncer/instructorParser/venv/lib/python3.10/site-packages/urllib3/util/ssl_.py:493\u001b[0m, in \u001b[0;36m_ssl_wrap_socket_impl\u001b[0;34m(sock, ssl_context, tls_in_tls, server_hostname)\u001b[0m\n\u001b[1;32m    492\u001b[0m \u001b[39mif\u001b[39;00m server_hostname:\n\u001b[0;32m--> 493\u001b[0m     \u001b[39mreturn\u001b[39;00m ssl_context\u001b[39m.\u001b[39;49mwrap_socket(sock, server_hostname\u001b[39m=\u001b[39;49mserver_hostname)\n\u001b[1;32m    494\u001b[0m \u001b[39melse\u001b[39;00m:\n",
      "File \u001b[0;32m/usr/lib/python3.10/ssl.py:513\u001b[0m, in \u001b[0;36mSSLContext.wrap_socket\u001b[0;34m(self, sock, server_side, do_handshake_on_connect, suppress_ragged_eofs, server_hostname, session)\u001b[0m\n\u001b[1;32m    507\u001b[0m \u001b[39mdef\u001b[39;00m \u001b[39mwrap_socket\u001b[39m(\u001b[39mself\u001b[39m, sock, server_side\u001b[39m=\u001b[39m\u001b[39mFalse\u001b[39;00m,\n\u001b[1;32m    508\u001b[0m                 do_handshake_on_connect\u001b[39m=\u001b[39m\u001b[39mTrue\u001b[39;00m,\n\u001b[1;32m    509\u001b[0m                 suppress_ragged_eofs\u001b[39m=\u001b[39m\u001b[39mTrue\u001b[39;00m,\n\u001b[1;32m    510\u001b[0m                 server_hostname\u001b[39m=\u001b[39m\u001b[39mNone\u001b[39;00m, session\u001b[39m=\u001b[39m\u001b[39mNone\u001b[39;00m):\n\u001b[1;32m    511\u001b[0m     \u001b[39m# SSLSocket class handles server_hostname encoding before it calls\u001b[39;00m\n\u001b[1;32m    512\u001b[0m     \u001b[39m# ctx._wrap_socket()\u001b[39;00m\n\u001b[0;32m--> 513\u001b[0m     \u001b[39mreturn\u001b[39;00m \u001b[39mself\u001b[39;49m\u001b[39m.\u001b[39;49msslsocket_class\u001b[39m.\u001b[39;49m_create(\n\u001b[1;32m    514\u001b[0m         sock\u001b[39m=\u001b[39;49msock,\n\u001b[1;32m    515\u001b[0m         server_side\u001b[39m=\u001b[39;49mserver_side,\n\u001b[1;32m    516\u001b[0m         do_handshake_on_connect\u001b[39m=\u001b[39;49mdo_handshake_on_connect,\n\u001b[1;32m    517\u001b[0m         suppress_ragged_eofs\u001b[39m=\u001b[39;49msuppress_ragged_eofs,\n\u001b[1;32m    518\u001b[0m         server_hostname\u001b[39m=\u001b[39;49mserver_hostname,\n\u001b[1;32m    519\u001b[0m         context\u001b[39m=\u001b[39;49m\u001b[39mself\u001b[39;49m,\n\u001b[1;32m    520\u001b[0m         session\u001b[39m=\u001b[39;49msession\n\u001b[1;32m    521\u001b[0m     )\n",
      "File \u001b[0;32m/usr/lib/python3.10/ssl.py:1071\u001b[0m, in \u001b[0;36mSSLSocket._create\u001b[0;34m(cls, sock, server_side, do_handshake_on_connect, suppress_ragged_eofs, server_hostname, context, session)\u001b[0m\n\u001b[1;32m   1070\u001b[0m             \u001b[39mraise\u001b[39;00m \u001b[39mValueError\u001b[39;00m(\u001b[39m\"\u001b[39m\u001b[39mdo_handshake_on_connect should not be specified for non-blocking sockets\u001b[39m\u001b[39m\"\u001b[39m)\n\u001b[0;32m-> 1071\u001b[0m         \u001b[39mself\u001b[39;49m\u001b[39m.\u001b[39;49mdo_handshake()\n\u001b[1;32m   1072\u001b[0m \u001b[39mexcept\u001b[39;00m (\u001b[39mOSError\u001b[39;00m, \u001b[39mValueError\u001b[39;00m):\n",
      "File \u001b[0;32m/usr/lib/python3.10/ssl.py:1342\u001b[0m, in \u001b[0;36mSSLSocket.do_handshake\u001b[0;34m(self, block)\u001b[0m\n\u001b[1;32m   1341\u001b[0m         \u001b[39mself\u001b[39m\u001b[39m.\u001b[39msettimeout(\u001b[39mNone\u001b[39;00m)\n\u001b[0;32m-> 1342\u001b[0m     \u001b[39mself\u001b[39;49m\u001b[39m.\u001b[39;49m_sslobj\u001b[39m.\u001b[39;49mdo_handshake()\n\u001b[1;32m   1343\u001b[0m \u001b[39mfinally\u001b[39;00m:\n",
      "\u001b[0;31mSSLZeroReturnError\u001b[0m: TLS/SSL connection has been closed (EOF) (_ssl.c:997)",
      "\nDuring handling of the above exception, another exception occurred:\n",
      "\u001b[0;31mMaxRetryError\u001b[0m                             Traceback (most recent call last)",
      "File \u001b[0;32m~/academicProfileSyncer/instructorParser/venv/lib/python3.10/site-packages/requests/adapters.py:489\u001b[0m, in \u001b[0;36mHTTPAdapter.send\u001b[0;34m(self, request, stream, timeout, verify, cert, proxies)\u001b[0m\n\u001b[1;32m    488\u001b[0m \u001b[39mif\u001b[39;00m \u001b[39mnot\u001b[39;00m chunked:\n\u001b[0;32m--> 489\u001b[0m     resp \u001b[39m=\u001b[39m conn\u001b[39m.\u001b[39;49murlopen(\n\u001b[1;32m    490\u001b[0m         method\u001b[39m=\u001b[39;49mrequest\u001b[39m.\u001b[39;49mmethod,\n\u001b[1;32m    491\u001b[0m         url\u001b[39m=\u001b[39;49murl,\n\u001b[1;32m    492\u001b[0m         body\u001b[39m=\u001b[39;49mrequest\u001b[39m.\u001b[39;49mbody,\n\u001b[1;32m    493\u001b[0m         headers\u001b[39m=\u001b[39;49mrequest\u001b[39m.\u001b[39;49mheaders,\n\u001b[1;32m    494\u001b[0m         redirect\u001b[39m=\u001b[39;49m\u001b[39mFalse\u001b[39;49;00m,\n\u001b[1;32m    495\u001b[0m         assert_same_host\u001b[39m=\u001b[39;49m\u001b[39mFalse\u001b[39;49;00m,\n\u001b[1;32m    496\u001b[0m         preload_content\u001b[39m=\u001b[39;49m\u001b[39mFalse\u001b[39;49;00m,\n\u001b[1;32m    497\u001b[0m         decode_content\u001b[39m=\u001b[39;49m\u001b[39mFalse\u001b[39;49;00m,\n\u001b[1;32m    498\u001b[0m         retries\u001b[39m=\u001b[39;49m\u001b[39mself\u001b[39;49m\u001b[39m.\u001b[39;49mmax_retries,\n\u001b[1;32m    499\u001b[0m         timeout\u001b[39m=\u001b[39;49mtimeout,\n\u001b[1;32m    500\u001b[0m     )\n\u001b[1;32m    502\u001b[0m \u001b[39m# Send the request.\u001b[39;00m\n\u001b[1;32m    503\u001b[0m \u001b[39melse\u001b[39;00m:\n",
      "File \u001b[0;32m~/academicProfileSyncer/instructorParser/venv/lib/python3.10/site-packages/urllib3/connectionpool.py:787\u001b[0m, in \u001b[0;36mHTTPConnectionPool.urlopen\u001b[0;34m(self, method, url, body, headers, retries, redirect, assert_same_host, timeout, pool_timeout, release_conn, chunked, body_pos, **response_kw)\u001b[0m\n\u001b[1;32m    785\u001b[0m     e \u001b[39m=\u001b[39m ProtocolError(\u001b[39m\"\u001b[39m\u001b[39mConnection aborted.\u001b[39m\u001b[39m\"\u001b[39m, e)\n\u001b[0;32m--> 787\u001b[0m retries \u001b[39m=\u001b[39m retries\u001b[39m.\u001b[39;49mincrement(\n\u001b[1;32m    788\u001b[0m     method, url, error\u001b[39m=\u001b[39;49me, _pool\u001b[39m=\u001b[39;49m\u001b[39mself\u001b[39;49m, _stacktrace\u001b[39m=\u001b[39;49msys\u001b[39m.\u001b[39;49mexc_info()[\u001b[39m2\u001b[39;49m]\n\u001b[1;32m    789\u001b[0m )\n\u001b[1;32m    790\u001b[0m retries\u001b[39m.\u001b[39msleep()\n",
      "File \u001b[0;32m~/academicProfileSyncer/instructorParser/venv/lib/python3.10/site-packages/urllib3/util/retry.py:592\u001b[0m, in \u001b[0;36mRetry.increment\u001b[0;34m(self, method, url, response, error, _pool, _stacktrace)\u001b[0m\n\u001b[1;32m    591\u001b[0m \u001b[39mif\u001b[39;00m new_retry\u001b[39m.\u001b[39mis_exhausted():\n\u001b[0;32m--> 592\u001b[0m     \u001b[39mraise\u001b[39;00m MaxRetryError(_pool, url, error \u001b[39mor\u001b[39;00m ResponseError(cause))\n\u001b[1;32m    594\u001b[0m log\u001b[39m.\u001b[39mdebug(\u001b[39m\"\u001b[39m\u001b[39mIncremented Retry for (url=\u001b[39m\u001b[39m'\u001b[39m\u001b[39m%s\u001b[39;00m\u001b[39m'\u001b[39m\u001b[39m): \u001b[39m\u001b[39m%r\u001b[39;00m\u001b[39m\"\u001b[39m, url, new_retry)\n",
      "\u001b[0;31mMaxRetryError\u001b[0m: HTTPSConnectionPool(host='www.sslproxies.org', port=443): Max retries exceeded with url: / (Caused by SSLError(SSLZeroReturnError(6, 'TLS/SSL connection has been closed (EOF) (_ssl.c:997)')))",
      "\nDuring handling of the above exception, another exception occurred:\n",
      "\u001b[0;31mSSLError\u001b[0m                                  Traceback (most recent call last)",
      "File \u001b[0;32m~/academicProfileSyncer/instructorParser/venv/lib/python3.10/site-packages/fp/fp.py:32\u001b[0m, in \u001b[0;36mFreeProxy.get_proxy_list\u001b[0;34m(self, repeat)\u001b[0m\n\u001b[1;32m     31\u001b[0m \u001b[39mtry\u001b[39;00m:\n\u001b[0;32m---> 32\u001b[0m     page \u001b[39m=\u001b[39m requests\u001b[39m.\u001b[39;49mget(\u001b[39mself\u001b[39;49m\u001b[39m.\u001b[39;49m__website(repeat))\n\u001b[1;32m     33\u001b[0m     doc \u001b[39m=\u001b[39m lh\u001b[39m.\u001b[39mfromstring(page\u001b[39m.\u001b[39mcontent)\n",
      "File \u001b[0;32m~/academicProfileSyncer/instructorParser/venv/lib/python3.10/site-packages/requests/api.py:73\u001b[0m, in \u001b[0;36mget\u001b[0;34m(url, params, **kwargs)\u001b[0m\n\u001b[1;32m     63\u001b[0m \u001b[39m\u001b[39m\u001b[39mr\u001b[39m\u001b[39m\"\"\"Sends a GET request.\u001b[39;00m\n\u001b[1;32m     64\u001b[0m \n\u001b[1;32m     65\u001b[0m \u001b[39m:param url: URL for the new :class:`Request` object.\u001b[39;00m\n\u001b[0;32m   (...)\u001b[0m\n\u001b[1;32m     70\u001b[0m \u001b[39m:rtype: requests.Response\u001b[39;00m\n\u001b[1;32m     71\u001b[0m \u001b[39m\"\"\"\u001b[39;00m\n\u001b[0;32m---> 73\u001b[0m \u001b[39mreturn\u001b[39;00m request(\u001b[39m\"\u001b[39;49m\u001b[39mget\u001b[39;49m\u001b[39m\"\u001b[39;49m, url, params\u001b[39m=\u001b[39;49mparams, \u001b[39m*\u001b[39;49m\u001b[39m*\u001b[39;49mkwargs)\n",
      "File \u001b[0;32m~/academicProfileSyncer/instructorParser/venv/lib/python3.10/site-packages/requests/api.py:59\u001b[0m, in \u001b[0;36mrequest\u001b[0;34m(method, url, **kwargs)\u001b[0m\n\u001b[1;32m     58\u001b[0m \u001b[39mwith\u001b[39;00m sessions\u001b[39m.\u001b[39mSession() \u001b[39mas\u001b[39;00m session:\n\u001b[0;32m---> 59\u001b[0m     \u001b[39mreturn\u001b[39;00m session\u001b[39m.\u001b[39;49mrequest(method\u001b[39m=\u001b[39;49mmethod, url\u001b[39m=\u001b[39;49murl, \u001b[39m*\u001b[39;49m\u001b[39m*\u001b[39;49mkwargs)\n",
      "File \u001b[0;32m~/academicProfileSyncer/instructorParser/venv/lib/python3.10/site-packages/requests/sessions.py:587\u001b[0m, in \u001b[0;36mSession.request\u001b[0;34m(self, method, url, params, data, headers, cookies, files, auth, timeout, allow_redirects, proxies, hooks, stream, verify, cert, json)\u001b[0m\n\u001b[1;32m    586\u001b[0m send_kwargs\u001b[39m.\u001b[39mupdate(settings)\n\u001b[0;32m--> 587\u001b[0m resp \u001b[39m=\u001b[39m \u001b[39mself\u001b[39;49m\u001b[39m.\u001b[39;49msend(prep, \u001b[39m*\u001b[39;49m\u001b[39m*\u001b[39;49msend_kwargs)\n\u001b[1;32m    589\u001b[0m \u001b[39mreturn\u001b[39;00m resp\n",
      "File \u001b[0;32m~/academicProfileSyncer/instructorParser/venv/lib/python3.10/site-packages/requests/sessions.py:701\u001b[0m, in \u001b[0;36mSession.send\u001b[0;34m(self, request, **kwargs)\u001b[0m\n\u001b[1;32m    700\u001b[0m \u001b[39m# Send the request\u001b[39;00m\n\u001b[0;32m--> 701\u001b[0m r \u001b[39m=\u001b[39m adapter\u001b[39m.\u001b[39;49msend(request, \u001b[39m*\u001b[39;49m\u001b[39m*\u001b[39;49mkwargs)\n\u001b[1;32m    703\u001b[0m \u001b[39m# Total elapsed time of the request (approximately)\u001b[39;00m\n",
      "File \u001b[0;32m~/academicProfileSyncer/instructorParser/venv/lib/python3.10/site-packages/requests/adapters.py:563\u001b[0m, in \u001b[0;36mHTTPAdapter.send\u001b[0;34m(self, request, stream, timeout, verify, cert, proxies)\u001b[0m\n\u001b[1;32m    561\u001b[0m \u001b[39mif\u001b[39;00m \u001b[39misinstance\u001b[39m(e\u001b[39m.\u001b[39mreason, _SSLError):\n\u001b[1;32m    562\u001b[0m     \u001b[39m# This branch is for urllib3 v1.22 and later.\u001b[39;00m\n\u001b[0;32m--> 563\u001b[0m     \u001b[39mraise\u001b[39;00m SSLError(e, request\u001b[39m=\u001b[39mrequest)\n\u001b[1;32m    565\u001b[0m \u001b[39mraise\u001b[39;00m \u001b[39mConnectionError\u001b[39;00m(e, request\u001b[39m=\u001b[39mrequest)\n",
      "\u001b[0;31mSSLError\u001b[0m: HTTPSConnectionPool(host='www.sslproxies.org', port=443): Max retries exceeded with url: / (Caused by SSLError(SSLZeroReturnError(6, 'TLS/SSL connection has been closed (EOF) (_ssl.c:997)')))",
      "\nThe above exception was the direct cause of the following exception:\n",
      "\u001b[0;31mFreeProxyException\u001b[0m                        Traceback (most recent call last)",
      "Cell \u001b[0;32mIn[28], line 3\u001b[0m\n\u001b[1;32m      1\u001b[0m \u001b[39mfor\u001b[39;00m res \u001b[39min\u001b[39;00m results:\n\u001b[0;32m----> 3\u001b[0m     pubs\u001b[39m.\u001b[39mappend(res\u001b[39m.\u001b[39;49mresult())\n",
      "File \u001b[0;32m/usr/lib/python3.10/concurrent/futures/_base.py:451\u001b[0m, in \u001b[0;36mFuture.result\u001b[0;34m(self, timeout)\u001b[0m\n\u001b[1;32m    449\u001b[0m     \u001b[39mraise\u001b[39;00m CancelledError()\n\u001b[1;32m    450\u001b[0m \u001b[39melif\u001b[39;00m \u001b[39mself\u001b[39m\u001b[39m.\u001b[39m_state \u001b[39m==\u001b[39m FINISHED:\n\u001b[0;32m--> 451\u001b[0m     \u001b[39mreturn\u001b[39;00m \u001b[39mself\u001b[39;49m\u001b[39m.\u001b[39;49m__get_result()\n\u001b[1;32m    453\u001b[0m \u001b[39mself\u001b[39m\u001b[39m.\u001b[39m_condition\u001b[39m.\u001b[39mwait(timeout)\n\u001b[1;32m    455\u001b[0m \u001b[39mif\u001b[39;00m \u001b[39mself\u001b[39m\u001b[39m.\u001b[39m_state \u001b[39min\u001b[39;00m [CANCELLED, CANCELLED_AND_NOTIFIED]:\n",
      "File \u001b[0;32m/usr/lib/python3.10/concurrent/futures/_base.py:403\u001b[0m, in \u001b[0;36mFuture.__get_result\u001b[0;34m(self)\u001b[0m\n\u001b[1;32m    401\u001b[0m \u001b[39mif\u001b[39;00m \u001b[39mself\u001b[39m\u001b[39m.\u001b[39m_exception:\n\u001b[1;32m    402\u001b[0m     \u001b[39mtry\u001b[39;00m:\n\u001b[0;32m--> 403\u001b[0m         \u001b[39mraise\u001b[39;00m \u001b[39mself\u001b[39m\u001b[39m.\u001b[39m_exception\n\u001b[1;32m    404\u001b[0m     \u001b[39mfinally\u001b[39;00m:\n\u001b[1;32m    405\u001b[0m         \u001b[39m# Break a reference cycle with the exception in self._exception\u001b[39;00m\n\u001b[1;32m    406\u001b[0m         \u001b[39mself\u001b[39m \u001b[39m=\u001b[39m \u001b[39mNone\u001b[39;00m\n",
      "Cell \u001b[0;32mIn[25], line 3\u001b[0m\n\u001b[1;32m      1\u001b[0m \u001b[39mfor\u001b[39;00m res \u001b[39min\u001b[39;00m results:\n\u001b[1;32m      2\u001b[0m     \u001b[39mtry\u001b[39;00m:\n\u001b[0;32m----> 3\u001b[0m         pubs\u001b[39m.\u001b[39mappend(res\u001b[39m.\u001b[39;49mresult())\n\u001b[1;32m      5\u001b[0m     \u001b[39mexcept\u001b[39;00m:\n\u001b[1;32m      6\u001b[0m         \u001b[39mcontinue\u001b[39;00m\n",
      "File \u001b[0;32m/usr/lib/python3.10/concurrent/futures/_base.py:451\u001b[0m, in \u001b[0;36mFuture.result\u001b[0;34m(self, timeout)\u001b[0m\n\u001b[1;32m    449\u001b[0m     \u001b[39mraise\u001b[39;00m CancelledError()\n\u001b[1;32m    450\u001b[0m \u001b[39melif\u001b[39;00m \u001b[39mself\u001b[39m\u001b[39m.\u001b[39m_state \u001b[39m==\u001b[39m FINISHED:\n\u001b[0;32m--> 451\u001b[0m     \u001b[39mreturn\u001b[39;00m \u001b[39mself\u001b[39;49m\u001b[39m.\u001b[39;49m__get_result()\n\u001b[1;32m    453\u001b[0m \u001b[39mself\u001b[39m\u001b[39m.\u001b[39m_condition\u001b[39m.\u001b[39mwait(timeout)\n\u001b[1;32m    455\u001b[0m \u001b[39mif\u001b[39;00m \u001b[39mself\u001b[39m\u001b[39m.\u001b[39m_state \u001b[39min\u001b[39;00m [CANCELLED, CANCELLED_AND_NOTIFIED]:\n",
      "File \u001b[0;32m/usr/lib/python3.10/concurrent/futures/_base.py:403\u001b[0m, in \u001b[0;36mFuture.__get_result\u001b[0;34m(self)\u001b[0m\n\u001b[1;32m    401\u001b[0m \u001b[39mif\u001b[39;00m \u001b[39mself\u001b[39m\u001b[39m.\u001b[39m_exception:\n\u001b[1;32m    402\u001b[0m     \u001b[39mtry\u001b[39;00m:\n\u001b[0;32m--> 403\u001b[0m         \u001b[39mraise\u001b[39;00m \u001b[39mself\u001b[39m\u001b[39m.\u001b[39m_exception\n\u001b[1;32m    404\u001b[0m     \u001b[39mfinally\u001b[39;00m:\n\u001b[1;32m    405\u001b[0m         \u001b[39m# Break a reference cycle with the exception in self._exception\u001b[39;00m\n\u001b[1;32m    406\u001b[0m         \u001b[39mself\u001b[39m \u001b[39m=\u001b[39m \u001b[39mNone\u001b[39;00m\n",
      "File \u001b[0;32m/usr/lib/python3.10/concurrent/futures/thread.py:58\u001b[0m, in \u001b[0;36m_WorkItem.run\u001b[0;34m(self)\u001b[0m\n\u001b[1;32m     55\u001b[0m     \u001b[39mreturn\u001b[39;00m\n\u001b[1;32m     57\u001b[0m \u001b[39mtry\u001b[39;00m:\n\u001b[0;32m---> 58\u001b[0m     result \u001b[39m=\u001b[39m \u001b[39mself\u001b[39;49m\u001b[39m.\u001b[39;49mfn(\u001b[39m*\u001b[39;49m\u001b[39mself\u001b[39;49m\u001b[39m.\u001b[39;49margs, \u001b[39m*\u001b[39;49m\u001b[39m*\u001b[39;49m\u001b[39mself\u001b[39;49m\u001b[39m.\u001b[39;49mkwargs)\n\u001b[1;32m     59\u001b[0m \u001b[39mexcept\u001b[39;00m \u001b[39mBaseException\u001b[39;00m \u001b[39mas\u001b[39;00m exc:\n\u001b[1;32m     60\u001b[0m     \u001b[39mself\u001b[39m\u001b[39m.\u001b[39mfuture\u001b[39m.\u001b[39mset_exception(exc)\n",
      "Cell \u001b[0;32mIn[18], line 2\u001b[0m, in \u001b[0;36mgetPaper\u001b[0;34m(pub)\u001b[0m\n\u001b[1;32m      1\u001b[0m \u001b[39mdef\u001b[39;00m \u001b[39mgetPaper\u001b[39m(pub):\n\u001b[0;32m----> 2\u001b[0m     pg\u001b[39m.\u001b[39;49mFreeProxies()\n\u001b[1;32m      3\u001b[0m     scholarly\u001b[39m.\u001b[39muse_proxy(pg)\n\u001b[1;32m      5\u001b[0m     \u001b[39m#pubs.append(scholarly.fill(pub))\u001b[39;00m\n",
      "File \u001b[0;32m~/academicProfileSyncer/instructorParser/venv/lib/python3.10/site-packages/scholarly/_proxy_generator.py:550\u001b[0m, in \u001b[0;36mProxyGenerator.FreeProxies\u001b[0;34m(self, timeout, wait_time)\u001b[0m\n\u001b[1;32m    548\u001b[0m \u001b[39mself\u001b[39m\u001b[39m.\u001b[39m_fp_gen \u001b[39m=\u001b[39m \u001b[39mself\u001b[39m\u001b[39m.\u001b[39m_fp_coroutine(timeout\u001b[39m=\u001b[39mtimeout, wait_time\u001b[39m=\u001b[39mwait_time)\n\u001b[1;32m    549\u001b[0m \u001b[39mself\u001b[39m\u001b[39m.\u001b[39m_proxy_gen \u001b[39m=\u001b[39m \u001b[39mself\u001b[39m\u001b[39m.\u001b[39m_fp_gen\u001b[39m.\u001b[39msend\n\u001b[0;32m--> 550\u001b[0m proxy \u001b[39m=\u001b[39m \u001b[39mself\u001b[39;49m\u001b[39m.\u001b[39;49m_proxy_gen(\u001b[39mNone\u001b[39;49;00m)  \u001b[39m# prime the generator\u001b[39;00m\n\u001b[1;32m    551\u001b[0m \u001b[39mself\u001b[39m\u001b[39m.\u001b[39mlogger\u001b[39m.\u001b[39mdebug(\u001b[39m\"\u001b[39m\u001b[39mTrying with proxy \u001b[39m\u001b[39m%s\u001b[39;00m\u001b[39m\"\u001b[39m, proxy)\n\u001b[1;32m    552\u001b[0m proxy_works \u001b[39m=\u001b[39m \u001b[39mself\u001b[39m\u001b[39m.\u001b[39m_use_proxy(proxy)\n",
      "File \u001b[0;32m~/academicProfileSyncer/instructorParser/venv/lib/python3.10/site-packages/scholarly/_proxy_generator.py:509\u001b[0m, in \u001b[0;36mProxyGenerator._fp_coroutine\u001b[0;34m(self, timeout, wait_time)\u001b[0m\n\u001b[1;32m    507\u001b[0m     \u001b[39mself\u001b[39m\u001b[39m.\u001b[39m_dirty_freeproxies \u001b[39m=\u001b[39m \u001b[39mset\u001b[39m()\n\u001b[1;32m    508\u001b[0m \u001b[39mtry\u001b[39;00m:\n\u001b[0;32m--> 509\u001b[0m     all_proxies \u001b[39m=\u001b[39m freeproxy\u001b[39m.\u001b[39;49mget_proxy_list(repeat\u001b[39m=\u001b[39;49m\u001b[39mFalse\u001b[39;49;00m)  \u001b[39m# free-proxy >= 1.1.0\u001b[39;00m\n\u001b[1;32m    510\u001b[0m \u001b[39mexcept\u001b[39;00m \u001b[39mTypeError\u001b[39;00m:\n\u001b[1;32m    511\u001b[0m     all_proxies \u001b[39m=\u001b[39m freeproxy\u001b[39m.\u001b[39mget_proxy_list()  \u001b[39m# free-proxy < 1.1.0\u001b[39;00m\n",
      "File \u001b[0;32m~/academicProfileSyncer/instructorParser/venv/lib/python3.10/site-packages/fp/fp.py:35\u001b[0m, in \u001b[0;36mFreeProxy.get_proxy_list\u001b[0;34m(self, repeat)\u001b[0m\n\u001b[1;32m     33\u001b[0m     doc \u001b[39m=\u001b[39m lh\u001b[39m.\u001b[39mfromstring(page\u001b[39m.\u001b[39mcontent)\n\u001b[1;32m     34\u001b[0m \u001b[39mexcept\u001b[39;00m requests\u001b[39m.\u001b[39mexceptions\u001b[39m.\u001b[39mRequestException \u001b[39mas\u001b[39;00m e:\n\u001b[0;32m---> 35\u001b[0m     \u001b[39mraise\u001b[39;00m FreeProxyException(\n\u001b[1;32m     36\u001b[0m         \u001b[39mf\u001b[39m\u001b[39m'\u001b[39m\u001b[39mRequest to \u001b[39m\u001b[39m{\u001b[39;00m\u001b[39mself\u001b[39m\u001b[39m.\u001b[39m__website(repeat)\u001b[39m}\u001b[39;00m\u001b[39m failed\u001b[39m\u001b[39m'\u001b[39m) \u001b[39mfrom\u001b[39;00m \u001b[39me\u001b[39;00m\n\u001b[1;32m     37\u001b[0m \u001b[39mtry\u001b[39;00m:\n\u001b[1;32m     38\u001b[0m     tr_elements \u001b[39m=\u001b[39m doc\u001b[39m.\u001b[39mxpath(\u001b[39m'\u001b[39m\u001b[39m//*[@id=\u001b[39m\u001b[39m\"\u001b[39m\u001b[39mlist\u001b[39m\u001b[39m\"\u001b[39m\u001b[39m]//tr\u001b[39m\u001b[39m'\u001b[39m)\n",
      "\u001b[0;31mFreeProxyException\u001b[0m: Request to https://www.sslproxies.org failed"
     ]
    }
   ],
   "source": [
    "for res in results:\n",
    "   \n",
    "    pubs.append(res.result())\n",
    "        \n",
    "  "
   ]
  },
  {
   "cell_type": "code",
   "execution_count": 27,
   "metadata": {},
   "outputs": [
    {
     "name": "stdout",
     "output_type": "stream",
     "text": [
      "116\n",
      "0\n"
     ]
    },
    {
     "data": {
      "text/plain": [
       "[<Future at 0x7f004a6c1c00 state=finished raised FreeProxyException>,\n",
       " <Future at 0x7f004b867d30 state=finished raised FreeProxyException>,\n",
       " <Future at 0x7f004b874f10 state=finished raised FreeProxyException>,\n",
       " <Future at 0x7f004b876fe0 state=finished raised FreeProxyException>,\n",
       " <Future at 0x7f004b82efb0 state=finished raised FreeProxyException>,\n",
       " <Future at 0x7f004b82d750 state=finished raised FreeProxyException>,\n",
       " <Future at 0x7f004b82dcf0 state=finished raised FreeProxyException>,\n",
       " <Future at 0x7f004b82d000 state=finished raised FreeProxyException>,\n",
       " <Future at 0x7f004b82c100 state=finished raised FreeProxyException>,\n",
       " <Future at 0x7f004afc4340 state=finished raised FreeProxyException>,\n",
       " <Future at 0x7f004b82cb20 state=finished raised FreeProxyException>,\n",
       " <Future at 0x7f004afc5ff0 state=finished raised FreeProxyException>,\n",
       " <Future at 0x7f004afc6fe0 state=finished raised FreeProxyException>,\n",
       " <Future at 0x7f004afc7640 state=finished raised FreeProxyException>,\n",
       " <Future at 0x7f004afb3eb0 state=finished raised FreeProxyException>,\n",
       " <Future at 0x7f004afb3010 state=finished raised FreeProxyException>,\n",
       " <Future at 0x7f004b875d50 state=finished raised FreeProxyException>,\n",
       " <Future at 0x7f004afb14e0 state=finished raised FreeProxyException>,\n",
       " <Future at 0x7f004afb0d00 state=finished raised FreeProxyException>,\n",
       " <Future at 0x7f004afb0160 state=finished raised FreeProxyException>,\n",
       " <Future at 0x7f004afab580 state=finished raised FreeProxyException>,\n",
       " <Future at 0x7f004afaa800 state=finished raised FreeProxyException>,\n",
       " <Future at 0x7f004afabe20 state=finished raised FreeProxyException>,\n",
       " <Future at 0x7f004afa91b0 state=finished raised FreeProxyException>,\n",
       " <Future at 0x7f004afa8310 state=finished raised FreeProxyException>,\n",
       " <Future at 0x7f004afaa410 state=finished raised FreeProxyException>,\n",
       " <Future at 0x7f004af9eb00 state=finished raised FreeProxyException>,\n",
       " <Future at 0x7f004af9de70 state=finished raised FreeProxyException>,\n",
       " <Future at 0x7f004af9d1b0 state=finished raised FreeProxyException>,\n",
       " <Future at 0x7f004af9c670 state=finished raised FreeProxyException>,\n",
       " <Future at 0x7f004af97c10 state=finished raised FreeProxyException>,\n",
       " <Future at 0x7f004af969b0 state=finished raised FreeProxyException>,\n",
       " <Future at 0x7f004af961a0 state=finished raised FreeProxyException>,\n",
       " <Future at 0x7f004af95c90 state=finished raised FreeProxyException>,\n",
       " <Future at 0x7f004af94880 state=finished raised FreeProxyException>,\n",
       " <Future at 0x7f004af8fcd0 state=finished raised FreeProxyException>,\n",
       " <Future at 0x7f004af8f190 state=finished raised FreeProxyException>,\n",
       " <Future at 0x7f004af8e500 state=finished raised FreeProxyException>,\n",
       " <Future at 0x7f004af8d840 state=finished raised FreeProxyException>,\n",
       " <Future at 0x7f004af8c9a0 state=finished raised FreeProxyException>,\n",
       " <Future at 0x7f004af7fc40 state=finished raised FreeProxyException>,\n",
       " <Future at 0x7f004af7ee60 state=finished raised FreeProxyException>,\n",
       " <Future at 0x7f004af7dfc0 state=finished raised FreeProxyException>,\n",
       " <Future at 0x7f004af7d060 state=finished raised FreeProxyException>,\n",
       " <Future at 0x7f004af7c490 state=finished raised FreeProxyException>,\n",
       " <Future at 0x7f004af776d0 state=finished raised FreeProxyException>,\n",
       " <Future at 0x7f004af76830 state=finished raised FreeProxyException>,\n",
       " <Future at 0x7f004af75d50 state=finished raised FreeProxyException>,\n",
       " <Future at 0x7f004af74e50 state=finished raised FreeProxyException>,\n",
       " <Future at 0x7f004af74250 state=finished raised FreeProxyException>,\n",
       " <Future at 0x7f004af37520 state=finished raised FreeProxyException>,\n",
       " <Future at 0x7f004af36680 state=finished raised FreeProxyException>,\n",
       " <Future at 0x7f004af36080 state=finished raised FreeProxyException>,\n",
       " <Future at 0x7f004afb0520 state=finished raised FreeProxyException>,\n",
       " <Future at 0x7f004af34520 state=finished raised FreeProxyException>,\n",
       " <Future at 0x7f004af2b7c0 state=finished raised FreeProxyException>,\n",
       " <Future at 0x7f004af2abf0 state=finished raised FreeProxyException>,\n",
       " <Future at 0x7f004af29fc0 state=finished raised FreeProxyException>,\n",
       " <Future at 0x7f004af29c30 state=finished raised FreeProxyException>,\n",
       " <Future at 0x7f004af13eb0 state=finished raised FreeProxyException>,\n",
       " <Future at 0x7f004af13550 state=finished raised FreeProxyException>,\n",
       " <Future at 0x7f004af12860 state=finished raised FreeProxyException>,\n",
       " <Future at 0x7f004af11b10 state=finished raised FreeProxyException>,\n",
       " <Future at 0x7f004af10e80 state=finished raised FreeProxyException>,\n",
       " <Future at 0x7f004ae33fd0 state=finished raised FreeProxyException>,\n",
       " <Future at 0x7f004ae33490 state=finished raised FreeProxyException>,\n",
       " <Future at 0x7f004ae32440 state=finished raised FreeProxyException>,\n",
       " <Future at 0x7f004ae317e0 state=finished raised FreeProxyException>,\n",
       " <Future at 0x7f004ae30af0 state=finished raised FreeProxyException>,\n",
       " <Future at 0x7f004ae23d30 state=finished raised FreeProxyException>,\n",
       " <Future at 0x7f004ae22e90 state=finished raised FreeProxyException>,\n",
       " <Future at 0x7f004ae220b0 state=finished raised FreeProxyException>,\n",
       " <Future at 0x7f004ae20ca0 state=finished raised FreeProxyException>,\n",
       " <Future at 0x7f004ae20610 state=finished raised FreeProxyException>,\n",
       " <Future at 0x7f004ae0b790 state=finished raised FreeProxyException>,\n",
       " <Future at 0x7f004ae0a8f0 state=finished raised FreeProxyException>,\n",
       " <Future at 0x7f004ae09cc0 state=finished raised FreeProxyException>,\n",
       " <Future at 0x7f004ae09060 state=finished raised FreeProxyException>,\n",
       " <Future at 0x7f004ae08190 state=finished raised FreeProxyException>,\n",
       " <Future at 0x7f004ae50b80 state=finished raised FreeProxyException>,\n",
       " <Future at 0x7f004ae519f0 state=finished raised FreeProxyException>,\n",
       " <Future at 0x7f004ae528c0 state=finished raised FreeProxyException>,\n",
       " <Future at 0x7f004ae533a0 state=finished raised FreeProxyException>,\n",
       " <Future at 0x7f004ae74220 state=finished raised FreeProxyException>,\n",
       " <Future at 0x7f004ae75060 state=finished raised FreeProxyException>,\n",
       " <Future at 0x7f004ae75d20 state=finished raised FreeProxyException>,\n",
       " <Future at 0x7f004ae76bf0 state=finished raised FreeProxyException>,\n",
       " <Future at 0x7f004ae52590 state=finished raised FreeProxyException>,\n",
       " <Future at 0x7f004ae88310 state=finished raised FreeProxyException>,\n",
       " <Future at 0x7f004ae89090 state=finished raised FreeProxyException>,\n",
       " <Future at 0x7f004ae8a1a0 state=finished raised FreeProxyException>,\n",
       " <Future at 0x7f004ae8ab60 state=finished raised FreeProxyException>,\n",
       " <Future at 0x7f004ae8b850 state=finished raised FreeProxyException>,\n",
       " <Future at 0x7f004aea44f0 state=finished raised FreeProxyException>,\n",
       " <Future at 0x7f004aea5480 state=finished raised FreeProxyException>,\n",
       " <Future at 0x7f004aea6a10 state=finished raised FreeProxyException>,\n",
       " <Future at 0x7f004aea6fe0 state=finished raised FreeProxyException>,\n",
       " <Future at 0x7f004aea7e20 state=finished raised FreeProxyException>,\n",
       " <Future at 0x7f004aebcb50 state=finished raised FreeProxyException>,\n",
       " <Future at 0x7f004aebd900 state=finished raised FreeProxyException>,\n",
       " <Future at 0x7f004aebe6b0 state=finished raised FreeProxyException>,\n",
       " <Future at 0x7f004aebf520 state=finished raised FreeProxyException>,\n",
       " <Future at 0x7f004aedc7c0 state=finished raised FreeProxyException>,\n",
       " <Future at 0x7f004aedcfd0 state=finished raised FreeProxyException>,\n",
       " <Future at 0x7f004aebf430 state=finished raised FreeProxyException>,\n",
       " <Future at 0x7f004aede890 state=finished raised FreeProxyException>,\n",
       " <Future at 0x7f004aedf820 state=finished raised FreeProxyException>,\n",
       " <Future at 0x7f004aef8760 state=finished raised FreeProxyException>,\n",
       " <Future at 0x7f004aef9360 state=finished raised FreeProxyException>,\n",
       " <Future at 0x7f004aefa080 state=finished raised FreeProxyException>,\n",
       " <Future at 0x7f004aefada0 state=finished raised FreeProxyException>,\n",
       " <Future at 0x7f004aefba90 state=finished raised FreeProxyException>,\n",
       " <Future at 0x7f004ad248e0 state=finished raised FreeProxyException>,\n",
       " <Future at 0x7f004ad25870 state=finished raised FreeProxyException>,\n",
       " <Future at 0x7f004ad26320 state=finished raised FreeProxyException>,\n",
       " <Future at 0x7f004ad27100 state=finished raised FreeProxyException>]"
      ]
     },
     "execution_count": 27,
     "metadata": {},
     "output_type": "execute_result"
    }
   ],
   "source": [
    "print(len(results))\n",
    "print(len(pubs))\n",
    "results"
   ]
  },
  {
   "cell_type": "code",
   "execution_count": null,
   "metadata": {},
   "outputs": [],
   "source": [
    "\n",
    "writeJson(pubs,\"MuratOsmanÜnalir.json\")"
   ]
  }
 ],
 "metadata": {
  "kernelspec": {
   "display_name": "venv",
   "language": "python",
   "name": "python3"
  },
  "language_info": {
   "codemirror_mode": {
    "name": "ipython",
    "version": 3
   },
   "file_extension": ".py",
   "mimetype": "text/x-python",
   "name": "python",
   "nbconvert_exporter": "python",
   "pygments_lexer": "ipython3",
   "version": "3.10.6"
  },
  "orig_nbformat": 4,
  "vscode": {
   "interpreter": {
    "hash": "5d71b227d20f976369075767c15a7c78ac2727da1bd6c48308afb3818cb72419"
   }
  }
 },
 "nbformat": 4,
 "nbformat_minor": 2
}
