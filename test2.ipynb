{
 "cells": [
  {
   "cell_type": "code",
   "execution_count": 19,
   "metadata": {},
   "outputs": [],
   "source": [
    "import requests\n",
    "import pandas as pd\n"
   ]
  },
  {
   "cell_type": "code",
   "execution_count": 20,
   "metadata": {},
   "outputs": [],
   "source": [
    "def getTheRes(url):\n",
    "    try:\n",
    "        response = requests.get(url)\n",
    "        if response.status_code == 200:\n",
    "            data = response.json()\n",
    "            return data[\"data\"]\n",
    "            # Process the jsonData as needed\n",
    "           \n",
    "        else:\n",
    "            print(\"Error:\", response.status_code)\n",
    "    except requests.exceptions.RequestException as e:\n",
    "        print(\"Error:\", e)\n",
    "    return \"\""
   ]
  },
  {
   "cell_type": "code",
   "execution_count": 21,
   "metadata": {},
   "outputs": [],
   "source": [
    "instructor = getTheRes(\"http://89.252.131.124:8080/api/instructor\")\n",
    "course= getTheRes(\"http://89.252.131.124:8080/api/course/1\")\n",
    " "
   ]
  },
  {
   "cell_type": "code",
   "execution_count": 22,
   "metadata": {},
   "outputs": [],
   "source": [
    "instructorDF = pd.DataFrame.from_dict(instructor)\n",
    "\n",
    "courseDF= pd.DataFrame.from_dict(course)\n"
   ]
  },
  {
   "cell_type": "code",
   "execution_count": 23,
   "metadata": {},
   "outputs": [
    {
     "data": {
      "text/html": [
       "<div>\n",
       "<style scoped>\n",
       "    .dataframe tbody tr th:only-of-type {\n",
       "        vertical-align: middle;\n",
       "    }\n",
       "\n",
       "    .dataframe tbody tr th {\n",
       "        vertical-align: top;\n",
       "    }\n",
       "\n",
       "    .dataframe thead th {\n",
       "        text-align: right;\n",
       "    }\n",
       "</style>\n",
       "<table border=\"1\" class=\"dataframe\">\n",
       "  <thead>\n",
       "    <tr style=\"text-align: right;\">\n",
       "      <th></th>\n",
       "      <th>id</th>\n",
       "      <th>name</th>\n",
       "      <th>code</th>\n",
       "      <th>info</th>\n",
       "      <th>href</th>\n",
       "      <th>updated_at</th>\n",
       "      <th>created_at</th>\n",
       "      <th>instructors</th>\n",
       "    </tr>\n",
       "  </thead>\n",
       "  <tbody>\n",
       "    <tr>\n",
       "      <th>0</th>\n",
       "      <td>1</td>\n",
       "      <td>DATABASE MANAGEMENT</td>\n",
       "      <td>501003222010</td>\n",
       "      <td>Bu dersin amacı, öğrencilerin, veritabanı kavr...</td>\n",
       "      <td>https://ebp.ege.edu.tr/DereceProgramlari/Ders/...</td>\n",
       "      <td>2023-06-08T05:26:46.868Z</td>\n",
       "      <td>2023-06-08T05:26:46.868Z</td>\n",
       "      <td>{'id': 1, 'scholar_id': 'g8LHJncAAAAJ', 'profi...</td>\n",
       "    </tr>\n",
       "  </tbody>\n",
       "</table>\n",
       "</div>"
      ],
      "text/plain": [
       "   id                 name          code   \n",
       "0   1  DATABASE MANAGEMENT  501003222010  \\\n",
       "\n",
       "                                                info   \n",
       "0  Bu dersin amacı, öğrencilerin, veritabanı kavr...  \\\n",
       "\n",
       "                                                href   \n",
       "0  https://ebp.ege.edu.tr/DereceProgramlari/Ders/...  \\\n",
       "\n",
       "                 updated_at                created_at   \n",
       "0  2023-06-08T05:26:46.868Z  2023-06-08T05:26:46.868Z  \\\n",
       "\n",
       "                                         instructors  \n",
       "0  {'id': 1, 'scholar_id': 'g8LHJncAAAAJ', 'profi...  "
      ]
     },
     "execution_count": 23,
     "metadata": {},
     "output_type": "execute_result"
    }
   ],
   "source": [
    "courseDF "
   ]
  },
  {
   "cell_type": "code",
   "execution_count": 24,
   "metadata": {},
   "outputs": [],
   "source": [
    "columns_to_drop = [  'profile_picture',  \n",
    "       'affilation', 'email_domain', 'interests', 'citedby', 'citedby5y',\n",
    "       'hindex', 'hindex5y', 'i10index', 'i10index5y',  \n",
    "       'updated_at', 'created_at']\n",
    "\n",
    "# Drop the specified columns\n",
    "\n",
    "instructorDF=instructorDF.drop(columns=columns_to_drop)\n"
   ]
  },
  {
   "cell_type": "code",
   "execution_count": 35,
   "metadata": {},
   "outputs": [
    {
     "data": {
      "text/plain": [
       "{'id': 1,\n",
       " 'name': 'DATABASE MANAGEMENT',\n",
       " 'code': '501003222010',\n",
       " 'info': 'Bu dersin amacı, öğrencilerin, veritabanı kavramını tanımasını ve anlamasını,ilişkisel veri modelinin kavramlarını öğrenebilmesini,SQL deyimlerini öğrenebilmesini ve kullanabilmesini,kavramsal modellemeyi kavramasını, kavramsal modelden ilişkisel modele veritabanı tasarımı ilkelerini kullanarak geçebilmesini öğrenmeyi,veritabanı normalizasyon kuramını öğrenmesini ve veritabanı tasarımına etkilerini algılamasını,sorgu işleme, eniyileme ve veritabanı ayarlama kavramlarını öğrenip uygulamasını,kayıt hareketi işleme ve eşzamanlılık denetimi kavramlarının önemini ve uygulamadaki yerini anlamasını ve yeni nesil veritabanı uygulamaları hakkında bilgi sahibi olmasını sağlamaktır.',\n",
       " 'href': 'https://ebp.ege.edu.tr/DereceProgramlari/Ders/1/2626/122067/634383/1',\n",
       " 'updated_at': '2023-06-08T05:26:46.868Z',\n",
       " 'created_at': '2023-06-08T05:26:46.868Z',\n",
       " 'instructors': [{'id': 1,\n",
       "   'scholar_id': 'g8LHJncAAAAJ',\n",
       "   'profile_picture': 'https://scholar.google.com/citations?view_op=medium_photo&user=g8LHJncAAAAJ',\n",
       "   'filtered_name': 'MURAT OSMAN ÜNALIR',\n",
       "   'titled_name': 'Prof.Dr. Murat Osman ÜNALIR',\n",
       "   'affilation': 'Ege Üniversitesi',\n",
       "   'email_domain': '@ege.edu.tr',\n",
       "   'interests': '',\n",
       "   'citedby': 352,\n",
       "   'citedby5y': 180,\n",
       "   'hindex': 9,\n",
       "   'hindex5y': 7,\n",
       "   'i10index': 7,\n",
       "   'i10index5y': 4,\n",
       "   'parsable': True,\n",
       "   'visited': True,\n",
       "   'updated_at': '2023-06-08T05:50:31.574Z',\n",
       "   'created_at': '2023-06-08T05:27:15.092Z'}]}"
      ]
     },
     "execution_count": 35,
     "metadata": {},
     "output_type": "execute_result"
    }
   ],
   "source": [
    "instructorDF[instructorDF.parsable==False]\n",
    "\n",
    "course"
   ]
  },
  {
   "cell_type": "code",
   "execution_count": null,
   "metadata": {},
   "outputs": [],
   "source": []
  }
 ],
 "metadata": {
  "kernelspec": {
   "display_name": "venv",
   "language": "python",
   "name": "python3"
  },
  "language_info": {
   "codemirror_mode": {
    "name": "ipython",
    "version": 3
   },
   "file_extension": ".py",
   "mimetype": "text/x-python",
   "name": "python",
   "nbconvert_exporter": "python",
   "pygments_lexer": "ipython3",
   "version": "3.10.6"
  },
  "orig_nbformat": 4
 },
 "nbformat": 4,
 "nbformat_minor": 2
}
